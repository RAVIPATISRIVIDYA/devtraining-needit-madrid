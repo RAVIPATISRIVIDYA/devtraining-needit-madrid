{
  "nbformat": 4,
  "nbformat_minor": 0,
  "metadata": {
    "colab": {
      "name": "Split Learning.ipynb",
      "provenance": [],
      "collapsed_sections": [],
      "include_colab_link": true
    },
    "kernelspec": {
      "name": "python3",
      "display_name": "Python 3"
    },
    "language_info": {
      "name": "python"
    },
    "accelerator": "GPU",
    "widgets": {
      "application/vnd.jupyter.widget-state+json": {
        "3808acc365eb4e16873313d5c9275fa2": {
          "model_module": "@jupyter-widgets/controls",
          "model_name": "HBoxModel",
          "model_module_version": "1.5.0",
          "state": {
            "_view_name": "HBoxView",
            "_dom_classes": [],
            "_model_name": "HBoxModel",
            "_view_module": "@jupyter-widgets/controls",
            "_model_module_version": "1.5.0",
            "_view_count": null,
            "_view_module_version": "1.5.0",
            "box_style": "",
            "layout": "IPY_MODEL_9c1f52ff949e492a9f74c68b6718bc3b",
            "_model_module": "@jupyter-widgets/controls",
            "children": [
              "IPY_MODEL_800b20c1caeb4c8fb43da9e774aba4e5",
              "IPY_MODEL_b26fff2ee5bf4b499c4c28b8e38dafb0",
              "IPY_MODEL_bfdc447264124f12880e7aa79a64d00d"
            ]
          }
        },
        "9c1f52ff949e492a9f74c68b6718bc3b": {
          "model_module": "@jupyter-widgets/base",
          "model_name": "LayoutModel",
          "model_module_version": "1.2.0",
          "state": {
            "_view_name": "LayoutView",
            "grid_template_rows": null,
            "right": null,
            "justify_content": null,
            "_view_module": "@jupyter-widgets/base",
            "overflow": null,
            "_model_module_version": "1.2.0",
            "_view_count": null,
            "flex_flow": null,
            "width": null,
            "min_width": null,
            "border": null,
            "align_items": null,
            "bottom": null,
            "_model_module": "@jupyter-widgets/base",
            "top": null,
            "grid_column": null,
            "overflow_y": null,
            "overflow_x": null,
            "grid_auto_flow": null,
            "grid_area": null,
            "grid_template_columns": null,
            "flex": null,
            "_model_name": "LayoutModel",
            "justify_items": null,
            "grid_row": null,
            "max_height": null,
            "align_content": null,
            "visibility": null,
            "align_self": null,
            "height": null,
            "min_height": null,
            "padding": null,
            "grid_auto_rows": null,
            "grid_gap": null,
            "max_width": null,
            "order": null,
            "_view_module_version": "1.2.0",
            "grid_template_areas": null,
            "object_position": null,
            "object_fit": null,
            "grid_auto_columns": null,
            "margin": null,
            "display": null,
            "left": null
          }
        },
        "800b20c1caeb4c8fb43da9e774aba4e5": {
          "model_module": "@jupyter-widgets/controls",
          "model_name": "HTMLModel",
          "model_module_version": "1.5.0",
          "state": {
            "_view_name": "HTMLView",
            "style": "IPY_MODEL_81d0d47a942e451fa4308d5f18e8e2c1",
            "_dom_classes": [],
            "description": "",
            "_model_name": "HTMLModel",
            "placeholder": "​",
            "_view_module": "@jupyter-widgets/controls",
            "_model_module_version": "1.5.0",
            "value": "",
            "_view_count": null,
            "_view_module_version": "1.5.0",
            "description_tooltip": null,
            "_model_module": "@jupyter-widgets/controls",
            "layout": "IPY_MODEL_2ea24e5d431c46e18498fe1d1aad08de"
          }
        },
        "b26fff2ee5bf4b499c4c28b8e38dafb0": {
          "model_module": "@jupyter-widgets/controls",
          "model_name": "FloatProgressModel",
          "model_module_version": "1.5.0",
          "state": {
            "_view_name": "ProgressView",
            "style": "IPY_MODEL_b6004a01adf440e9aab5de22fc4e4a2e",
            "_dom_classes": [],
            "description": "",
            "_model_name": "FloatProgressModel",
            "bar_style": "success",
            "max": 1,
            "_view_module": "@jupyter-widgets/controls",
            "_model_module_version": "1.5.0",
            "value": 1,
            "_view_count": null,
            "_view_module_version": "1.5.0",
            "orientation": "horizontal",
            "min": 0,
            "description_tooltip": null,
            "_model_module": "@jupyter-widgets/controls",
            "layout": "IPY_MODEL_3e45e6a4600b49d0a38881c40f2f3515"
          }
        },
        "bfdc447264124f12880e7aa79a64d00d": {
          "model_module": "@jupyter-widgets/controls",
          "model_name": "HTMLModel",
          "model_module_version": "1.5.0",
          "state": {
            "_view_name": "HTMLView",
            "style": "IPY_MODEL_d5620768d37b484083a9efe663c7746b",
            "_dom_classes": [],
            "description": "",
            "_model_name": "HTMLModel",
            "placeholder": "​",
            "_view_module": "@jupyter-widgets/controls",
            "_model_module_version": "1.5.0",
            "value": " 169009152/? [01:43&lt;00:00, 83368331.84it/s]",
            "_view_count": null,
            "_view_module_version": "1.5.0",
            "description_tooltip": null,
            "_model_module": "@jupyter-widgets/controls",
            "layout": "IPY_MODEL_22bddbab87bc4ae6b322c9358cbe1df9"
          }
        },
        "81d0d47a942e451fa4308d5f18e8e2c1": {
          "model_module": "@jupyter-widgets/controls",
          "model_name": "DescriptionStyleModel",
          "model_module_version": "1.5.0",
          "state": {
            "_view_name": "StyleView",
            "_model_name": "DescriptionStyleModel",
            "description_width": "",
            "_view_module": "@jupyter-widgets/base",
            "_model_module_version": "1.5.0",
            "_view_count": null,
            "_view_module_version": "1.2.0",
            "_model_module": "@jupyter-widgets/controls"
          }
        },
        "2ea24e5d431c46e18498fe1d1aad08de": {
          "model_module": "@jupyter-widgets/base",
          "model_name": "LayoutModel",
          "model_module_version": "1.2.0",
          "state": {
            "_view_name": "LayoutView",
            "grid_template_rows": null,
            "right": null,
            "justify_content": null,
            "_view_module": "@jupyter-widgets/base",
            "overflow": null,
            "_model_module_version": "1.2.0",
            "_view_count": null,
            "flex_flow": null,
            "width": null,
            "min_width": null,
            "border": null,
            "align_items": null,
            "bottom": null,
            "_model_module": "@jupyter-widgets/base",
            "top": null,
            "grid_column": null,
            "overflow_y": null,
            "overflow_x": null,
            "grid_auto_flow": null,
            "grid_area": null,
            "grid_template_columns": null,
            "flex": null,
            "_model_name": "LayoutModel",
            "justify_items": null,
            "grid_row": null,
            "max_height": null,
            "align_content": null,
            "visibility": null,
            "align_self": null,
            "height": null,
            "min_height": null,
            "padding": null,
            "grid_auto_rows": null,
            "grid_gap": null,
            "max_width": null,
            "order": null,
            "_view_module_version": "1.2.0",
            "grid_template_areas": null,
            "object_position": null,
            "object_fit": null,
            "grid_auto_columns": null,
            "margin": null,
            "display": null,
            "left": null
          }
        },
        "b6004a01adf440e9aab5de22fc4e4a2e": {
          "model_module": "@jupyter-widgets/controls",
          "model_name": "ProgressStyleModel",
          "model_module_version": "1.5.0",
          "state": {
            "_view_name": "StyleView",
            "_model_name": "ProgressStyleModel",
            "description_width": "",
            "_view_module": "@jupyter-widgets/base",
            "_model_module_version": "1.5.0",
            "_view_count": null,
            "_view_module_version": "1.2.0",
            "bar_color": null,
            "_model_module": "@jupyter-widgets/controls"
          }
        },
        "3e45e6a4600b49d0a38881c40f2f3515": {
          "model_module": "@jupyter-widgets/base",
          "model_name": "LayoutModel",
          "model_module_version": "1.2.0",
          "state": {
            "_view_name": "LayoutView",
            "grid_template_rows": null,
            "right": null,
            "justify_content": null,
            "_view_module": "@jupyter-widgets/base",
            "overflow": null,
            "_model_module_version": "1.2.0",
            "_view_count": null,
            "flex_flow": null,
            "width": "20px",
            "min_width": null,
            "border": null,
            "align_items": null,
            "bottom": null,
            "_model_module": "@jupyter-widgets/base",
            "top": null,
            "grid_column": null,
            "overflow_y": null,
            "overflow_x": null,
            "grid_auto_flow": null,
            "grid_area": null,
            "grid_template_columns": null,
            "flex": null,
            "_model_name": "LayoutModel",
            "justify_items": null,
            "grid_row": null,
            "max_height": null,
            "align_content": null,
            "visibility": null,
            "align_self": null,
            "height": null,
            "min_height": null,
            "padding": null,
            "grid_auto_rows": null,
            "grid_gap": null,
            "max_width": null,
            "order": null,
            "_view_module_version": "1.2.0",
            "grid_template_areas": null,
            "object_position": null,
            "object_fit": null,
            "grid_auto_columns": null,
            "margin": null,
            "display": null,
            "left": null
          }
        },
        "d5620768d37b484083a9efe663c7746b": {
          "model_module": "@jupyter-widgets/controls",
          "model_name": "DescriptionStyleModel",
          "model_module_version": "1.5.0",
          "state": {
            "_view_name": "StyleView",
            "_model_name": "DescriptionStyleModel",
            "description_width": "",
            "_view_module": "@jupyter-widgets/base",
            "_model_module_version": "1.5.0",
            "_view_count": null,
            "_view_module_version": "1.2.0",
            "_model_module": "@jupyter-widgets/controls"
          }
        },
        "22bddbab87bc4ae6b322c9358cbe1df9": {
          "model_module": "@jupyter-widgets/base",
          "model_name": "LayoutModel",
          "model_module_version": "1.2.0",
          "state": {
            "_view_name": "LayoutView",
            "grid_template_rows": null,
            "right": null,
            "justify_content": null,
            "_view_module": "@jupyter-widgets/base",
            "overflow": null,
            "_model_module_version": "1.2.0",
            "_view_count": null,
            "flex_flow": null,
            "width": null,
            "min_width": null,
            "border": null,
            "align_items": null,
            "bottom": null,
            "_model_module": "@jupyter-widgets/base",
            "top": null,
            "grid_column": null,
            "overflow_y": null,
            "overflow_x": null,
            "grid_auto_flow": null,
            "grid_area": null,
            "grid_template_columns": null,
            "flex": null,
            "_model_name": "LayoutModel",
            "justify_items": null,
            "grid_row": null,
            "max_height": null,
            "align_content": null,
            "visibility": null,
            "align_self": null,
            "height": null,
            "min_height": null,
            "padding": null,
            "grid_auto_rows": null,
            "grid_gap": null,
            "max_width": null,
            "order": null,
            "_view_module_version": "1.2.0",
            "grid_template_areas": null,
            "object_position": null,
            "object_fit": null,
            "grid_auto_columns": null,
            "margin": null,
            "display": null,
            "left": null
          }
        }
      }
    }
  },
  "cells": [
    {
      "cell_type": "markdown",
      "metadata": {
        "id": "view-in-github",
        "colab_type": "text"
      },
      "source": [
        "<a href=\"https://colab.research.google.com/github/RAVIPATISRIVIDYA/devtraining-needit-madrid/blob/master/Split_Learning.ipynb\" target=\"_parent\"><img src=\"https://colab.research.google.com/assets/colab-badge.svg\" alt=\"Open In Colab\"/></a>"
      ]
    },
    {
      "cell_type": "code",
      "metadata": {
        "colab": {
          "base_uri": "https://localhost:8080/",
          "height": 1000
        },
        "id": "0Cmvogk4-rzs",
        "outputId": "ce297709-4e14-465a-cd07-6a5d98a8a589"
      },
      "source": [
        "!pip install syft==0.2.5"
      ],
      "execution_count": 1,
      "outputs": [
        {
          "output_type": "stream",
          "name": "stdout",
          "text": [
            "Collecting syft==0.2.5\n",
            "  Downloading syft-0.2.5-py3-none-any.whl (369 kB)\n",
            "\u001b[?25l\r\u001b[K     |▉                               | 10 kB 19.7 MB/s eta 0:00:01\r\u001b[K     |█▊                              | 20 kB 11.0 MB/s eta 0:00:01\r\u001b[K     |██▋                             | 30 kB 8.6 MB/s eta 0:00:01\r\u001b[K     |███▌                            | 40 kB 7.8 MB/s eta 0:00:01\r\u001b[K     |████▍                           | 51 kB 5.1 MB/s eta 0:00:01\r\u001b[K     |█████▎                          | 61 kB 5.6 MB/s eta 0:00:01\r\u001b[K     |██████▏                         | 71 kB 4.9 MB/s eta 0:00:01\r\u001b[K     |███████                         | 81 kB 5.5 MB/s eta 0:00:01\r\u001b[K     |████████                        | 92 kB 5.0 MB/s eta 0:00:01\r\u001b[K     |████████▉                       | 102 kB 5.2 MB/s eta 0:00:01\r\u001b[K     |█████████▊                      | 112 kB 5.2 MB/s eta 0:00:01\r\u001b[K     |██████████▋                     | 122 kB 5.2 MB/s eta 0:00:01\r\u001b[K     |███████████▌                    | 133 kB 5.2 MB/s eta 0:00:01\r\u001b[K     |████████████▍                   | 143 kB 5.2 MB/s eta 0:00:01\r\u001b[K     |█████████████▎                  | 153 kB 5.2 MB/s eta 0:00:01\r\u001b[K     |██████████████▏                 | 163 kB 5.2 MB/s eta 0:00:01\r\u001b[K     |███████████████                 | 174 kB 5.2 MB/s eta 0:00:01\r\u001b[K     |████████████████                | 184 kB 5.2 MB/s eta 0:00:01\r\u001b[K     |████████████████▉               | 194 kB 5.2 MB/s eta 0:00:01\r\u001b[K     |█████████████████▊              | 204 kB 5.2 MB/s eta 0:00:01\r\u001b[K     |██████████████████▋             | 215 kB 5.2 MB/s eta 0:00:01\r\u001b[K     |███████████████████▌            | 225 kB 5.2 MB/s eta 0:00:01\r\u001b[K     |████████████████████▍           | 235 kB 5.2 MB/s eta 0:00:01\r\u001b[K     |█████████████████████▎          | 245 kB 5.2 MB/s eta 0:00:01\r\u001b[K     |██████████████████████▏         | 256 kB 5.2 MB/s eta 0:00:01\r\u001b[K     |███████████████████████         | 266 kB 5.2 MB/s eta 0:00:01\r\u001b[K     |████████████████████████        | 276 kB 5.2 MB/s eta 0:00:01\r\u001b[K     |████████████████████████▉       | 286 kB 5.2 MB/s eta 0:00:01\r\u001b[K     |█████████████████████████▊      | 296 kB 5.2 MB/s eta 0:00:01\r\u001b[K     |██████████████████████████▋     | 307 kB 5.2 MB/s eta 0:00:01\r\u001b[K     |███████████████████████████▌    | 317 kB 5.2 MB/s eta 0:00:01\r\u001b[K     |████████████████████████████▍   | 327 kB 5.2 MB/s eta 0:00:01\r\u001b[K     |█████████████████████████████▎  | 337 kB 5.2 MB/s eta 0:00:01\r\u001b[K     |██████████████████████████████▏ | 348 kB 5.2 MB/s eta 0:00:01\r\u001b[K     |███████████████████████████████ | 358 kB 5.2 MB/s eta 0:00:01\r\u001b[K     |████████████████████████████████| 368 kB 5.2 MB/s eta 0:00:01\r\u001b[K     |████████████████████████████████| 369 kB 5.2 MB/s \n",
            "\u001b[?25hRequirement already satisfied: scipy~=1.4.1 in /usr/local/lib/python3.7/dist-packages (from syft==0.2.5) (1.4.1)\n",
            "Collecting tornado==4.5.3\n",
            "  Downloading tornado-4.5.3.tar.gz (484 kB)\n",
            "\u001b[K     |████████████████████████████████| 484 kB 30.6 MB/s \n",
            "\u001b[?25hRequirement already satisfied: msgpack~=1.0.0 in /usr/local/lib/python3.7/dist-packages (from syft==0.2.5) (1.0.3)\n",
            "Collecting Pillow~=6.2.2\n",
            "  Downloading Pillow-6.2.2-cp37-cp37m-manylinux1_x86_64.whl (2.1 MB)\n",
            "\u001b[K     |████████████████████████████████| 2.1 MB 41.2 MB/s \n",
            "\u001b[?25hCollecting requests~=2.22.0\n",
            "  Downloading requests-2.22.0-py2.py3-none-any.whl (57 kB)\n",
            "\u001b[K     |████████████████████████████████| 57 kB 2.5 MB/s \n",
            "\u001b[?25hCollecting phe~=1.4.0\n",
            "  Downloading phe-1.4.0.tar.gz (35 kB)\n",
            "Requirement already satisfied: Flask~=1.1.1 in /usr/local/lib/python3.7/dist-packages (from syft==0.2.5) (1.1.4)\n",
            "Collecting torchvision~=0.5.0\n",
            "  Downloading torchvision-0.5.0-cp37-cp37m-manylinux1_x86_64.whl (4.0 MB)\n",
            "\u001b[K     |████████████████████████████████| 4.0 MB 48.6 MB/s \n",
            "\u001b[?25hCollecting websocket-client~=0.57.0\n",
            "  Downloading websocket_client-0.57.0-py2.py3-none-any.whl (200 kB)\n",
            "\u001b[K     |████████████████████████████████| 200 kB 41.0 MB/s \n",
            "\u001b[?25hCollecting numpy~=1.18.1\n",
            "  Downloading numpy-1.18.5-cp37-cp37m-manylinux1_x86_64.whl (20.1 MB)\n",
            "\u001b[K     |████████████████████████████████| 20.1 MB 1.3 MB/s \n",
            "\u001b[?25hCollecting websockets~=8.1.0\n",
            "  Downloading websockets-8.1-cp37-cp37m-manylinux2010_x86_64.whl (79 kB)\n",
            "\u001b[K     |████████████████████████████████| 79 kB 6.8 MB/s \n",
            "\u001b[?25hCollecting tblib~=1.6.0\n",
            "  Downloading tblib-1.6.0-py2.py3-none-any.whl (12 kB)\n",
            "Collecting flask-socketio~=4.2.1\n",
            "  Downloading Flask_SocketIO-4.2.1-py2.py3-none-any.whl (16 kB)\n",
            "Collecting torch~=1.4.0\n",
            "  Downloading torch-1.4.0-cp37-cp37m-manylinux1_x86_64.whl (753.4 MB)\n",
            "\u001b[K     |████████████████████████████████| 753.4 MB 7.2 kB/s \n",
            "\u001b[?25hCollecting lz4~=3.0.2\n",
            "  Downloading lz4-3.0.2-cp37-cp37m-manylinux2010_x86_64.whl (1.8 MB)\n",
            "\u001b[K     |████████████████████████████████| 1.8 MB 36.1 MB/s \n",
            "\u001b[?25hCollecting syft-proto~=0.4.1\n",
            "  Downloading syft_proto-0.4.10-py3-none-any.whl (63 kB)\n",
            "\u001b[K     |████████████████████████████████| 63 kB 2.3 MB/s \n",
            "\u001b[?25hRequirement already satisfied: Werkzeug<2.0,>=0.15 in /usr/local/lib/python3.7/dist-packages (from Flask~=1.1.1->syft==0.2.5) (1.0.1)\n",
            "Requirement already satisfied: Jinja2<3.0,>=2.10.1 in /usr/local/lib/python3.7/dist-packages (from Flask~=1.1.1->syft==0.2.5) (2.11.3)\n",
            "Requirement already satisfied: itsdangerous<2.0,>=0.24 in /usr/local/lib/python3.7/dist-packages (from Flask~=1.1.1->syft==0.2.5) (1.1.0)\n",
            "Requirement already satisfied: click<8.0,>=5.1 in /usr/local/lib/python3.7/dist-packages (from Flask~=1.1.1->syft==0.2.5) (7.1.2)\n",
            "Collecting python-socketio>=4.3.0\n",
            "  Downloading python_socketio-5.5.0-py3-none-any.whl (55 kB)\n",
            "\u001b[K     |████████████████████████████████| 55 kB 4.0 MB/s \n",
            "\u001b[?25hRequirement already satisfied: MarkupSafe>=0.23 in /usr/local/lib/python3.7/dist-packages (from Jinja2<3.0,>=2.10.1->Flask~=1.1.1->syft==0.2.5) (2.0.1)\n",
            "Collecting python-engineio>=4.3.0\n",
            "  Downloading python_engineio-4.3.0-py3-none-any.whl (52 kB)\n",
            "\u001b[K     |████████████████████████████████| 52 kB 1.3 MB/s \n",
            "\u001b[?25hCollecting bidict>=0.21.0\n",
            "  Downloading bidict-0.21.4-py3-none-any.whl (36 kB)\n",
            "Requirement already satisfied: certifi>=2017.4.17 in /usr/local/lib/python3.7/dist-packages (from requests~=2.22.0->syft==0.2.5) (2021.10.8)\n",
            "Requirement already satisfied: urllib3!=1.25.0,!=1.25.1,<1.26,>=1.21.1 in /usr/local/lib/python3.7/dist-packages (from requests~=2.22.0->syft==0.2.5) (1.24.3)\n",
            "Requirement already satisfied: chardet<3.1.0,>=3.0.2 in /usr/local/lib/python3.7/dist-packages (from requests~=2.22.0->syft==0.2.5) (3.0.4)\n",
            "Collecting idna<2.9,>=2.5\n",
            "  Downloading idna-2.8-py2.py3-none-any.whl (58 kB)\n",
            "\u001b[K     |████████████████████████████████| 58 kB 6.0 MB/s \n",
            "\u001b[?25hRequirement already satisfied: protobuf>=3.12.2 in /usr/local/lib/python3.7/dist-packages (from syft-proto~=0.4.1->syft==0.2.5) (3.17.3)\n",
            "Requirement already satisfied: six>=1.9 in /usr/local/lib/python3.7/dist-packages (from protobuf>=3.12.2->syft-proto~=0.4.1->syft==0.2.5) (1.15.0)\n",
            "Building wheels for collected packages: tornado, phe\n",
            "  Building wheel for tornado (setup.py) ... \u001b[?25l\u001b[?25hdone\n",
            "  Created wheel for tornado: filename=tornado-4.5.3-cp37-cp37m-linux_x86_64.whl size=434059 sha256=6f0172c75af76c673eb610440534c7700de49eb0953f696766a0aee772e6bea5\n",
            "  Stored in directory: /root/.cache/pip/wheels/a2/45/43/36ec7a893e16c1212a6b1505ded0a2d73cf8e863a0227c8e04\n",
            "  Building wheel for phe (setup.py) ... \u001b[?25l\u001b[?25hdone\n",
            "  Created wheel for phe: filename=phe-1.4.0-py2.py3-none-any.whl size=37362 sha256=503efb74fa8acbd22ed0adeb7d48ffb89968284d2d6110b8b2bda188fbddc484\n",
            "  Stored in directory: /root/.cache/pip/wheels/bb/ac/9b/b07a04fe6bb1418ab4ee06d6652757aef848b80363c4dac507\n",
            "Successfully built tornado phe\n",
            "Installing collected packages: python-engineio, bidict, torch, python-socketio, Pillow, numpy, idna, websockets, websocket-client, tornado, torchvision, tblib, syft-proto, requests, phe, lz4, flask-socketio, syft\n",
            "  Attempting uninstall: torch\n",
            "    Found existing installation: torch 1.10.0+cu111\n",
            "    Uninstalling torch-1.10.0+cu111:\n",
            "      Successfully uninstalled torch-1.10.0+cu111\n",
            "  Attempting uninstall: Pillow\n",
            "    Found existing installation: Pillow 7.1.2\n",
            "    Uninstalling Pillow-7.1.2:\n",
            "      Successfully uninstalled Pillow-7.1.2\n",
            "  Attempting uninstall: numpy\n",
            "    Found existing installation: numpy 1.19.5\n",
            "    Uninstalling numpy-1.19.5:\n",
            "      Successfully uninstalled numpy-1.19.5\n",
            "  Attempting uninstall: idna\n",
            "    Found existing installation: idna 2.10\n",
            "    Uninstalling idna-2.10:\n",
            "      Successfully uninstalled idna-2.10\n",
            "  Attempting uninstall: tornado\n",
            "    Found existing installation: tornado 5.1.1\n",
            "    Uninstalling tornado-5.1.1:\n",
            "      Successfully uninstalled tornado-5.1.1\n",
            "  Attempting uninstall: torchvision\n",
            "    Found existing installation: torchvision 0.11.1+cu111\n",
            "    Uninstalling torchvision-0.11.1+cu111:\n",
            "      Successfully uninstalled torchvision-0.11.1+cu111\n",
            "  Attempting uninstall: tblib\n",
            "    Found existing installation: tblib 1.7.0\n",
            "    Uninstalling tblib-1.7.0:\n",
            "      Successfully uninstalled tblib-1.7.0\n",
            "  Attempting uninstall: requests\n",
            "    Found existing installation: requests 2.23.0\n",
            "    Uninstalling requests-2.23.0:\n",
            "      Successfully uninstalled requests-2.23.0\n",
            "\u001b[31mERROR: pip's dependency resolver does not currently take into account all the packages that are installed. This behaviour is the source of the following dependency conflicts.\n",
            "torchtext 0.11.0 requires torch==1.10.0, but you have torch 1.4.0 which is incompatible.\n",
            "torchaudio 0.10.0+cu111 requires torch==1.10.0, but you have torch 1.4.0 which is incompatible.\n",
            "google-colab 1.0.0 requires requests~=2.23.0, but you have requests 2.22.0 which is incompatible.\n",
            "google-colab 1.0.0 requires tornado~=5.1.0; python_version >= \"3.0\", but you have tornado 4.5.3 which is incompatible.\n",
            "datascience 0.10.6 requires folium==0.2.1, but you have folium 0.8.3 which is incompatible.\n",
            "bokeh 2.3.3 requires pillow>=7.1.0, but you have pillow 6.2.2 which is incompatible.\n",
            "bokeh 2.3.3 requires tornado>=5.1, but you have tornado 4.5.3 which is incompatible.\n",
            "albumentations 0.1.12 requires imgaug<0.2.7,>=0.2.5, but you have imgaug 0.2.9 which is incompatible.\u001b[0m\n",
            "Successfully installed Pillow-6.2.2 bidict-0.21.4 flask-socketio-4.2.1 idna-2.8 lz4-3.0.2 numpy-1.18.5 phe-1.4.0 python-engineio-4.3.0 python-socketio-5.5.0 requests-2.22.0 syft-0.2.5 syft-proto-0.4.10 tblib-1.6.0 torch-1.4.0 torchvision-0.5.0 tornado-4.5.3 websocket-client-0.57.0 websockets-8.1\n"
          ]
        },
        {
          "output_type": "display_data",
          "data": {
            "application/vnd.colab-display-data+json": {
              "pip_warning": {
                "packages": [
                  "PIL",
                  "numpy",
                  "tornado"
                ]
              }
            }
          },
          "metadata": {}
        }
      ]
    },
    {
      "cell_type": "code",
      "metadata": {
        "colab": {
          "base_uri": "https://localhost:8080/"
        },
        "id": "VD7YL87A-sGK",
        "outputId": "c0e6d91c-c50d-4504-a4a0-8f72744b92bd"
      },
      "source": [
        "import torch\n",
        "import syft as sy\n",
        "\n",
        "# allow pysyft to work its magic on torch tensors\n",
        "hook = sy.TorchHook(torch)\n",
        "\n",
        "# create a virtual worker. in an actual setting this would be on a different machine\n",
        "client = sy.VirtualWorker( hook, id='client' )\n",
        "\n",
        "# define a tensor and send it to the client\n",
        "x = torch.tensor([1,2,3,4,5])\n",
        "# this leaves us with a pointer to the tensor\n",
        "x_pointer = x.send( client )\n",
        "\n",
        "# check out some meta data\n",
        "print( x_pointer )\n",
        "print( client._objects )\n",
        "\n",
        "# we can use this pointers like normal tensors\n",
        "result = x_pointer + x_pointer\n",
        "print( result )\n",
        "\n",
        "# if we want the result we can call get() to send the tensor back to us\n",
        "result_local = result.get()\n",
        "# once we call get() it removes the tensor from the other side and our pointer\n",
        "# becomes invalid\n",
        "print( result_local )\n",
        "print( client._objects )\n",
        "# print( result )"
      ],
      "execution_count": 1,
      "outputs": [
        {
          "output_type": "stream",
          "name": "stdout",
          "text": [
            "(Wrapper)>[PointerTensor | me:68580289521 -> client:89695094565]\n",
            "{26639111457: <Plan Plan id:26639111457 owner:client Tags: #fss_eq_plan_1 built>\n",
            ", 5442912878: <Plan Plan id:5442912878 owner:client Tags: #fss_eq_plan_2 built>\n",
            ", 67438813281: <Plan Plan id:67438813281 owner:client Tags: #fss_comp_plan_1 built>\n",
            ", 90905916870: <Plan Plan id:90905916870 owner:client Tags: #fss_comp_plan_2 built>\n",
            ", 35310555869: <Plan Plan id:35310555869 owner:client Tags: #xor_add_1 built>\n",
            ", 12468158228: <Plan Plan id:12468158228 owner:client Tags: #xor_add_2 built>\n",
            ", 89695094565: tensor([1, 2, 3, 4, 5])}\n",
            "(Wrapper)>[PointerTensor | me:36651760612 -> client:34002633088]\n",
            "tensor([ 2,  4,  6,  8, 10])\n",
            "{26639111457: <Plan Plan id:26639111457 owner:client Tags: #fss_eq_plan_1 built>\n",
            ", 5442912878: <Plan Plan id:5442912878 owner:client Tags: #fss_eq_plan_2 built>\n",
            ", 67438813281: <Plan Plan id:67438813281 owner:client Tags: #fss_comp_plan_1 built>\n",
            ", 90905916870: <Plan Plan id:90905916870 owner:client Tags: #fss_comp_plan_2 built>\n",
            ", 35310555869: <Plan Plan id:35310555869 owner:client Tags: #xor_add_1 built>\n",
            ", 12468158228: <Plan Plan id:12468158228 owner:client Tags: #xor_add_2 built>\n",
            ", 89695094565: tensor([1, 2, 3, 4, 5])}\n"
          ]
        }
      ]
    },
    {
      "cell_type": "code",
      "metadata": {
        "colab": {
          "base_uri": "https://localhost:8080/",
          "height": 257,
          "referenced_widgets": [
            "3808acc365eb4e16873313d5c9275fa2",
            "9c1f52ff949e492a9f74c68b6718bc3b",
            "800b20c1caeb4c8fb43da9e774aba4e5",
            "b26fff2ee5bf4b499c4c28b8e38dafb0",
            "bfdc447264124f12880e7aa79a64d00d",
            "81d0d47a942e451fa4308d5f18e8e2c1",
            "2ea24e5d431c46e18498fe1d1aad08de",
            "b6004a01adf440e9aab5de22fc4e4a2e",
            "3e45e6a4600b49d0a38881c40f2f3515",
            "d5620768d37b484083a9efe663c7746b",
            "22bddbab87bc4ae6b322c9358cbe1df9"
          ]
        },
        "id": "z_usVkRQ-sIo",
        "outputId": "fd3d3a11-7a6d-472b-e307-b552a65d3291"
      },
      "source": [
        "import torch\n",
        "from torchvision import datasets, transforms  # it may raise errors, and you need restart the runtime\n",
        "from torch import nn, optim\n",
        "import syft as sy\n",
        "hook = sy.TorchHook(torch)\n",
        "\n",
        "epochs = 10\n",
        "\n",
        "# Data preprocessing\n",
        "transform = transforms.Compose([transforms.ToTensor(),\n",
        "                              transforms.Normalize((0.5,), (0.5,)),\n",
        "                              ])\n",
        "trainset = datasets.CIFAR100('cifar100', download=True, train=True, transform=transform)\n",
        "trainloader = torch.utils.data.DataLoader(trainset, batch_size=64, shuffle=True)\n",
        "\n",
        "torch.manual_seed(0)\n",
        "\n",
        "# Define our model segments\n",
        "\n",
        "input_size = 3072\n",
        "hidden_sizes = [128, 640]\n",
        "output_size = 100\n",
        "\n",
        "models = [\n",
        "    nn.Sequential(\n",
        "                nn.Linear(input_size, hidden_sizes[0]),\n",
        "                nn.ReLU(),\n",
        "                nn.Linear(hidden_sizes[0], hidden_sizes[1]),\n",
        "                nn.ReLU(),\n",
        "    ),\n",
        "    nn.Sequential(\n",
        "                nn.Linear(hidden_sizes[1], output_size),\n",
        "                nn.LogSoftmax(dim=1)\n",
        "    )\n",
        "]\n",
        "\n",
        "# Create optimisers for each segment and link to their segment\n",
        "optimizers = [\n",
        "    optim.SGD(model.parameters(), lr=0.07,)\n",
        "    for model in models\n",
        "]\n",
        "\n",
        "# create some workers\n",
        "alice = sy.VirtualWorker(hook, id=\"alice\")\n",
        "bob = sy.VirtualWorker(hook, id=\"bob\")\n",
        "workers = alice, bob\n",
        "\n",
        "# Send Model Segments to starting locations\n",
        "model_locations = [alice, bob]\n",
        "\n",
        "for model, location in zip(models, model_locations):\n",
        "    model.send(location)\n",
        "\n",
        "def train(x, target, models, optimizers):\n",
        "    # Training Logic\n",
        "\n",
        "    #1) erase previous gradients (if they exist)\n",
        "    for opt in optimizers:\n",
        "        opt.zero_grad()\n",
        "\n",
        "    #2) make a prediction\n",
        "    a = models[0](x)\n",
        "\n",
        "    #3) break the computation graph link, and send the activation signal to the next model\n",
        "    remote_a = a.move(models[1].location, requires_grad=True)\n",
        "\n",
        "    #4) make prediction on next model using received signal\n",
        "    pred = models[1](remote_a)\n",
        "\n",
        "    #5) calculate how much we missed\n",
        "    criterion = nn.NLLLoss()\n",
        "    loss = criterion(pred, target)\n",
        "\n",
        "    #6) figure out which weights caused us to miss\n",
        "    loss.backward()\n",
        "\n",
        "    # 7) send gradient of the received activation signal to the model behind\n",
        "    # grad_a = remote_a.grad.copy().move(models[0].location)\n",
        "\n",
        "    # 8) backpropagate on bottom model given this gradient\n",
        "    # a.backward(grad_a)\n",
        "\n",
        "    #9) change the weights\n",
        "    for opt in optimizers:\n",
        "        opt.step()\n",
        "\n",
        "    #10) print our progress\n",
        "    return loss.detach().get()\n",
        "\n",
        "for i in range(epochs):\n",
        "    running_loss = 0\n",
        "    for images, labels in trainloader:\n",
        "        images = images.send(alice)\n",
        "        images = images.view(images.shape[0], -1)\n",
        "        labels = labels.send(bob)\n",
        "        \n",
        "        loss = train(images, labels, models, optimizers)\n",
        "        running_loss += loss\n",
        "\n",
        "    else:\n",
        "        print(\"Epoch {} - Training loss: {}\".format(i, running_loss/len(trainloader)))"
      ],
      "execution_count": 1,
      "outputs": [
        {
          "output_type": "stream",
          "name": "stdout",
          "text": [
            "Downloading https://www.cs.toronto.edu/~kriz/cifar-100-python.tar.gz to cifar100/cifar-100-python.tar.gz\n"
          ]
        },
        {
          "output_type": "display_data",
          "data": {
            "application/vnd.jupyter.widget-view+json": {
              "model_id": "3808acc365eb4e16873313d5c9275fa2",
              "version_minor": 0,
              "version_major": 2
            },
            "text/plain": [
              "0it [00:00, ?it/s]"
            ]
          },
          "metadata": {}
        },
        {
          "output_type": "stream",
          "name": "stdout",
          "text": [
            "Extracting cifar100/cifar-100-python.tar.gz to cifar100\n",
            "Epoch 0 - Training loss: 3.9301202297210693\n",
            "Epoch 1 - Training loss: 3.4655303955078125\n",
            "Epoch 2 - Training loss: 3.251256227493286\n",
            "Epoch 3 - Training loss: 3.0955700874328613\n",
            "Epoch 4 - Training loss: 2.969331741333008\n",
            "Epoch 5 - Training loss: 2.8563387393951416\n",
            "Epoch 6 - Training loss: 2.751477003097534\n",
            "Epoch 7 - Training loss: 2.6521451473236084\n",
            "Epoch 8 - Training loss: 2.5549862384796143\n",
            "Epoch 9 - Training loss: 2.466583728790283\n"
          ]
        }
      ]
    },
    {
      "cell_type": "code",
      "metadata": {
        "id": "OuBle0QN-sKj"
      },
      "source": [
        ""
      ],
      "execution_count": null,
      "outputs": []
    },
    {
      "cell_type": "code",
      "metadata": {
        "id": "iZmdnZao-sMw"
      },
      "source": [
        ""
      ],
      "execution_count": null,
      "outputs": []
    },
    {
      "cell_type": "code",
      "metadata": {
        "id": "uRX7QHRT-sPD"
      },
      "source": [
        ""
      ],
      "execution_count": null,
      "outputs": []
    },
    {
      "cell_type": "code",
      "metadata": {
        "id": "I4JLDbX3-sRW"
      },
      "source": [
        ""
      ],
      "execution_count": null,
      "outputs": []
    },
    {
      "cell_type": "code",
      "metadata": {
        "id": "y1wdOroA-sTY"
      },
      "source": [
        ""
      ],
      "execution_count": null,
      "outputs": []
    },
    {
      "cell_type": "code",
      "metadata": {
        "id": "znxT6n_S-sW0"
      },
      "source": [
        ""
      ],
      "execution_count": null,
      "outputs": []
    }
  ]
}